{
 "cells": [
  {
   "cell_type": "markdown",
   "metadata": {},
   "source": [
    "<img src=\"http://imgur.com/1ZcRyrc.png\" style=\"float: left; margin: 20px; height: 55px\">\n",
    "\n",
    "# Project 2: Analyzing Chipotle Data\n",
    "<br><br>\n",
    "_Instructor:_ Tim Book, General Assembly DC\n",
    "\n",
    "_Material adapted from its original author, Joseph Nelson_\n",
    "\n",
    "---"
   ]
  },
  {
   "cell_type": "markdown",
   "metadata": {},
   "source": [
    "For Project 2, you will complete a series of exercises exploring [order data from Chipotle](https://github.com/TheUpshot/chipotle), compliments of _The New York Times'_ \"The Upshot.\"\n",
    "\n",
    "For these exercises, you will conduct basic exploratory data analysis to understand the essentials of Chipotle's order data: how many orders are being made, the average price per order, how many different ingredients are used, etc. These allow you to practice business analysis skills while also becoming comfortable with Python.\n",
    "\n",
    "**To get full credit, each code cell must be accompanied by another cell giving plain-English interpretations as if you were speaking to a non-data scientist.**"
   ]
  },
  {
   "cell_type": "markdown",
   "metadata": {},
   "source": [
    "---\n",
    "\n",
    "## Basic Level"
   ]
  },
  {
   "cell_type": "markdown",
   "metadata": {},
   "source": [
    "### Part 1: Read in the data.\n",
    "Print the head of the data.\n",
    "\n",
    "_Hint:_ This is a TSV (tab-separated value) file, which means each element of the table is separated by a tab (instead of a `,` or `|` like we've seen in class).\n",
    "\n",
    "_Hint 2:_ The unicode character for tab is `\\t`"
   ]
  },
  {
   "cell_type": "code",
   "execution_count": 1,
   "metadata": {},
   "outputs": [],
   "source": [
    "DATA_FILE = './data/chipotle.tsv'\n",
    "import numpy as np\n",
    "import pandas as pd\n",
    "import matplotlib.pyplot as plt"
   ]
  },
  {
   "cell_type": "code",
   "execution_count": 2,
   "metadata": {},
   "outputs": [
    {
     "name": "stdout",
     "output_type": "stream",
     "text": [
      "The data has been read in\n"
     ]
    }
   ],
   "source": [
    "chipotle = pd.read_table('./data/chipotle.tsv', sep='\\t')\n",
    "print('The data has been read in')"
   ]
  },
  {
   "cell_type": "markdown",
   "metadata": {},
   "source": [
    "### Part 2: Whare the top 5 most commonly ordered items?"
   ]
  },
  {
   "cell_type": "code",
   "execution_count": 3,
   "metadata": {},
   "outputs": [],
   "source": [
    "top_items = chipotle.item_name.value_counts().sort_values(ascending = False).head(5)\n"
   ]
  },
  {
   "cell_type": "code",
   "execution_count": 4,
   "metadata": {},
   "outputs": [
    {
     "name": "stdout",
     "output_type": "stream",
     "text": [
      "The top 5 most commonly ordered items were:\n",
      "Chicken Bowl ,\n",
      "Chicken Burrito ,\n",
      "Chips and Guacamole ,\n",
      "Steak Burrito ,\n",
      "Canned Soft Drink ,\n"
     ]
    }
   ],
   "source": [
    "print(\"The top 5 most commonly ordered items were:\")\n",
    "for i in top_items.index:\n",
    "    print(i, \",\")"
   ]
  },
  {
   "cell_type": "markdown",
   "metadata": {},
   "source": [
    "---\n",
    "\n",
    "## Intermediate Level"
   ]
  },
  {
   "cell_type": "markdown",
   "metadata": {},
   "source": [
    "### Part 3: Calculate the average price of an order.\n",
    "\n",
    "_Hint:_ Examine the data to see if the `quantity` column is relevant to this calculation.\n",
    "\n",
    "_Hint 2:_ String methods can be called via `str`. For example, you might find the following useful:\n",
    "\n",
    "```python\n",
    "data.variable.str.replace('xyz', 'abc')\n",
    "```\n",
    "\n",
    "_Hint 3:_ Pay close attention to data types here! This is tricky."
   ]
  },
  {
   "cell_type": "code",
   "execution_count": 5,
   "metadata": {},
   "outputs": [],
   "source": [
    "chipotle.dtypes\n",
    "chipotle['item_price'] = chipotle['item_price'].str.replace('$', '')\n",
    "chipotle.item_price = chipotle.item_price.astype(float)\n",
    "chipotle['extended_price'] = chipotle.apply(lambda row: row.quantity * row.item_price, axis=1)\n",
    "avg_ord_price = chipotle.groupby('order_id').extended_price.sum().mean()"
   ]
  },
  {
   "cell_type": "code",
   "execution_count": 6,
   "metadata": {},
   "outputs": [
    {
     "name": "stdout",
     "output_type": "stream",
     "text": [
      "The average price of an order was $ 21.39\n"
     ]
    }
   ],
   "source": [
    "print('The average price of an order was $',round(avg_ord_price,2))"
   ]
  },
  {
   "cell_type": "markdown",
   "metadata": {},
   "source": [
    "### Part 4: Create a list (or set) named `unique_sodas` containing all of unique sodas and soft drinks that Chipotle sells.\n",
    "\n",
    "Note: Just look for items with `item_name` `'Canned Soda'` and `'Canned Soft Drink'`, and ignore other drinks like `'Izze'`. You're being asked about the variety of sodas in the `choice_description` column."
   ]
  },
  {
   "cell_type": "code",
   "execution_count": 7,
   "metadata": {},
   "outputs": [],
   "source": [
    "unique_choices = chipotle.groupby('item_name').choice_description.unique()\n",
    "\n",
    "unique_series = unique_choices[unique_choices.index.isin(['Canned Soda','Canned Soft Drink'])]\n",
    "sodas_array = np.concatenate([unique_series[0],unique_series[1]])\n",
    "unique_sodas = np.unique(sodas_array)\n"
   ]
  },
  {
   "cell_type": "code",
   "execution_count": 8,
   "metadata": {},
   "outputs": [
    {
     "name": "stdout",
     "output_type": "stream",
     "text": [
      "The unique sodas that were ordered were:\n",
      "[Coca Cola] ,\n",
      "[Coke] ,\n",
      "[Diet Coke] ,\n",
      "[Diet Dr. Pepper] ,\n",
      "[Dr. Pepper] ,\n",
      "[Lemonade] ,\n",
      "[Mountain Dew] ,\n",
      "[Nestea] ,\n",
      "[Sprite] ,\n"
     ]
    }
   ],
   "source": [
    "print('The unique sodas that were ordered were:')\n",
    "for i in unique_sodas:\n",
    "    print(i, ',')\n",
    "    \n"
   ]
  },
  {
   "cell_type": "markdown",
   "metadata": {},
   "source": [
    "---\n",
    "\n",
    "## Advanced Level\n"
   ]
  },
  {
   "cell_type": "markdown",
   "metadata": {},
   "source": [
    "### Part 5: Calculate the average number of toppings per burrito.\n",
    "\n",
    "Note: Let's ignore the `quantity` column to simplify this task.\n",
    "\n",
    "Hint: Think carefully about the easiest way to count the number of toppings!\n"
   ]
  },
  {
   "cell_type": "code",
   "execution_count": 14,
   "metadata": {},
   "outputs": [
    {
     "name": "stdout",
     "output_type": "stream",
     "text": [
      "The average number of toppings per burrito is 5.395051194539249\n"
     ]
    },
    {
     "name": "stderr",
     "output_type": "stream",
     "text": [
      "C:\\Users\\595405\\AppData\\Local\\Continuum\\anaconda3\\lib\\site-packages\\ipykernel_launcher.py:2: SettingWithCopyWarning: \n",
      "A value is trying to be set on a copy of a slice from a DataFrame.\n",
      "Try using .loc[row_indexer,col_indexer] = value instead\n",
      "\n",
      "See the caveats in the documentation: http://pandas.pydata.org/pandas-docs/stable/indexing.html#indexing-view-versus-copy\n",
      "  \n"
     ]
    }
   ],
   "source": [
    "burrito_orders = chipotle[chipotle.item_name.str.contains('Burrito')]\n",
    "burrito_orders['toppings_count'] = burrito_orders.choice_description.str.count(',') + 1\n",
    "print('The average number of toppings per burrito is', burrito_orders.toppings_count.mean())"
   ]
  },
  {
   "cell_type": "markdown",
   "metadata": {},
   "source": [
    "### Part 6: Create a dictionary. Let the keys represent chip orders and the values represent the total number of orders.\n",
    "\n",
    "Expected output: `{'Chips and Roasted Chili-Corn Salsa': 18, ... }`\n",
    "\n",
    "Note: Please take the `quantity` column into account!\n",
    "\n",
    "Optional: Learn how to use `.defaultdict()` to simplify your code."
   ]
  },
  {
   "cell_type": "code",
   "execution_count": 10,
   "metadata": {},
   "outputs": [],
   "source": [
    "chip_list = []\n",
    "for i in chipotle.item_name.unique():\n",
    "    if 'Chip' in i:\n",
    "        chip_list.append(i)\n",
    "order_quant = chipotle.groupby('item_name').quantity.sum()\n",
    "chip_quant = order_quant[order_quant.index.isin(chip_list)]\n"
   ]
  },
  {
   "cell_type": "code",
   "execution_count": 11,
   "metadata": {},
   "outputs": [
    {
     "data": {
      "text/plain": [
       "{'Chips': 230,\n",
       " 'Chips and Fresh Tomato Salsa': 130,\n",
       " 'Chips and Guacamole': 506,\n",
       " 'Chips and Mild Fresh Tomato Salsa': 1,\n",
       " 'Chips and Roasted Chili Corn Salsa': 23,\n",
       " 'Chips and Roasted Chili-Corn Salsa': 18,\n",
       " 'Chips and Tomatillo Green Chili Salsa': 45,\n",
       " 'Chips and Tomatillo Red Chili Salsa': 50,\n",
       " 'Chips and Tomatillo-Green Chili Salsa': 33,\n",
       " 'Chips and Tomatillo-Red Chili Salsa': 25,\n",
       " 'Side of Chips': 110}"
      ]
     },
     "execution_count": 11,
     "metadata": {},
     "output_type": "execute_result"
    }
   ],
   "source": [
    "chip_dict = chip_quant.to_dict()\n",
    "chip_dict"
   ]
  },
  {
   "cell_type": "code",
   "execution_count": 12,
   "metadata": {},
   "outputs": [
    {
     "name": "stdout",
     "output_type": "stream",
     "text": [
      "The number of orders for Chips was 230\n",
      "The number of orders for Chips and Fresh Tomato Salsa was 130\n",
      "The number of orders for Chips and Guacamole was 506\n",
      "The number of orders for Chips and Mild Fresh Tomato Salsa was 1\n",
      "The number of orders for Chips and Roasted Chili Corn Salsa was 23\n",
      "The number of orders for Chips and Roasted Chili-Corn Salsa was 18\n",
      "The number of orders for Chips and Tomatillo Green Chili Salsa was 45\n",
      "The number of orders for Chips and Tomatillo Red Chili Salsa was 50\n",
      "The number of orders for Chips and Tomatillo-Green Chili Salsa was 33\n",
      "The number of orders for Chips and Tomatillo-Red Chili Salsa was 25\n",
      "The number of orders for Side of Chips was 110\n"
     ]
    }
   ],
   "source": [
    "i = 0\n",
    "for i in range(0,len(chip_dict)):\n",
    "    print('The number of orders for', chip_quant.keys()[i], \"was\", chip_quant.values[i])\n",
    "    "
   ]
  },
  {
   "cell_type": "markdown",
   "metadata": {},
   "source": [
    "### Part 7: Create a barplot of the frequencies of the chip orders from part 6."
   ]
  },
  {
   "cell_type": "code",
   "execution_count": 13,
   "metadata": {},
   "outputs": [
    {
     "data": {
      "text/plain": [
       "([<matplotlib.axis.XTick at 0x1d9c544ad30>,\n",
       "  <matplotlib.axis.XTick at 0x1d9c0f080f0>,\n",
       "  <matplotlib.axis.XTick at 0x1d9c54767b8>,\n",
       "  <matplotlib.axis.XTick at 0x1d9c558fe80>,\n",
       "  <matplotlib.axis.XTick at 0x1d9c559e518>,\n",
       "  <matplotlib.axis.XTick at 0x1d9c559eb70>,\n",
       "  <matplotlib.axis.XTick at 0x1d9c55a4240>,\n",
       "  <matplotlib.axis.XTick at 0x1d9c55a48d0>,\n",
       "  <matplotlib.axis.XTick at 0x1d9c55a4f60>,\n",
       "  <matplotlib.axis.XTick at 0x1d9c55a9630>,\n",
       "  <matplotlib.axis.XTick at 0x1d9c55a9cc0>],\n",
       " <a list of 11 Text xticklabel objects>)"
      ]
     },
     "execution_count": 13,
     "metadata": {},
     "output_type": "execute_result"
    },
    {
     "data": {
      "image/png": "[encoded data removed]",
      "text/plain": [
       "<matplotlib.figure.Figure at 0x1d9c554df60>"
      ]
     },
     "metadata": {},
     "output_type": "display_data"
    }
   ],
   "source": [
    "\n",
    "\n",
    "plt.bar(range(len(chip_dict)), list(chip_dict.values()), align='center')\n",
    "plt.xticks(range(len(chip_dict)), list(chip_dict.keys()), rotation = 90)\n"
   ]
  },
  {
   "cell_type": "markdown",
   "metadata": {},
   "source": [
    "---\n",
    "\n",
    "## Bonus: Craft a problem statement about this data that interests you, and then answer it!\n"
   ]
  },
  {
   "cell_type": "code",
   "execution_count": null,
   "metadata": {},
   "outputs": [],
   "source": []
  }
 ],
 "metadata": {
  "anaconda-cloud": {},
  "kernelspec": {
   "display_name": "Python 3",
   "language": "python",
   "name": "python3"
  },
  "language_info": {
   "codemirror_mode": {
    "name": "ipython",
    "version": 3
   },
   "file_extension": ".py",
   "mimetype": "text/x-python",
   "name": "python",
   "nbconvert_exporter": "python",
   "pygments_lexer": "ipython3",
   "version": "3.6.4"
  }
 },
 "nbformat": 4,
 "nbformat_minor": 2
}
