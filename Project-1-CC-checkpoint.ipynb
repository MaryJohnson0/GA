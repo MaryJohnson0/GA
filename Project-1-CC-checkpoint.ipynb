{
 "cells": [
  {
   "cell_type": "markdown",
   "metadata": {},
   "source": [
    "<img src=\"http://imgur.com/1ZcRyrc.png\" style=\"float: left; margin: 20px; height: 55px\">\n",
    "\n",
    "# Project 1: Python Coding Exercises\n",
    "<br><br>\n",
    "_Instructor:_ Tim Book, General Assembly DC\n",
    "\n",
    "_Authors: Joseph Nelson (DC) _\n",
    "\n",
    "---\n",
    "\n",
    "### Due Date: 4/26/18 by midnight\n",
    "\n",
    "#### To Submit:\n",
    "Please fork this repo to your personal page. Solve the exercises in the blank cells provided and push. To submit your completed assignment, submit a pull request back to the original repository. The graders will use the file diffences to grade."
   ]
  },
  {
   "cell_type": "markdown",
   "metadata": {},
   "source": [
    "The following code challenges are drawn from common exercises used in technical interviews.\n",
    "\n",
    "Please note that there may be several ways to approach each challenge. If you get stuck, try mapping out your approach in pseudocode first. Finally, while solutions to problems like these may be found online, remember that if you copy/paste code that you can't explain, you'll be missing out on the point of the project. The only way to truly learn a new skill is through practice, trial, and error - we can only help you improve by understanding where you are having trouble."
   ]
  },
  {
   "cell_type": "markdown",
   "metadata": {},
   "source": [
    "### Challenge 1: Largest Palindrome\n",
    "A palindromic number reads the same both ways. For example, 1234321 is a palindrome. The largest palindrome made from the product of two two-digit numbers is 9009 = 91 × 99. Find the largest palindrome made from the product of two three-digit numbers. Afterward, write a brief explanation walking through your code's logic in markdown."
   ]
  },
  {
   "cell_type": "code",
   "execution_count": 1,
   "metadata": {},
   "outputs": [
    {
     "name": "stdout",
     "output_type": "stream",
     "text": [
      "The largest palindrome made from the product of two three-digit numbers is [913, 993]\n"
     ]
    }
   ],
   "source": [
    "list1 = list(range(100,1000))\n",
    "list2 = list(range(100,1000))\n",
    "palin_pair = [0,0]\n",
    "\n",
    "def is_palin(num):\n",
    "    palin_num=0 \n",
    "    num_len = len(str(num))-1 \n",
    "    for x in range(0,(int((num_len+1)/2))): \n",
    "        if str(num)[x] == str(num)[num_len-x]:\n",
    "            palin_num = palin_num+1 \n",
    "    if palin_num == int((num_len+1)/2): \n",
    "        return True\n",
    "    else:\n",
    "        return False\n",
    "\n",
    "for num1 in list1: \n",
    "    for num2 in list2:\n",
    "        prod = num1*num2 \n",
    "        if is_palin(prod)==True and prod>(palin_pair[1]*palin_pair[0]):\n",
    "            palin_pair = [num1,num2] \n",
    "print(\"The largest palindrome made from the product of two three-digit numbers is \"+ str(palin_pair)) "
   ]
  },
  {
   "cell_type": "markdown",
   "metadata": {},
   "source": [
    "The first two lists are each contain all of the integers from 100 to 999 inclusive, and palin_pair is the list where the numbers that create the largest palindrome will be store. The function is_palin, checks to see if a number is a palindrome. Palin_num, initialized to 0, holds the count of opposite characters that are equal. Num_len is eqaul to the length of the number fed in minus one, because strings start at index 0. The for loop checks whether the characters at either end are equal. If they are equal, then palin_num is incremented by one. If the number is a palindrome, then each pair will be equal and palin_num will be equal to the lower limit of half of the length of the number. If those two are equal the function will return true, indicating the number is a palindrome. Otherwise the function will return false. The next for loop goes through each value in the first list. The next for loop multiplies num1 by everynumber is the second list (list2). If the product of those two number (prod) is a palindrome (checked with the is_palin function) AND the product is also larger than the existing largest palindrome that is stored in palin_pair, then palin_pair is replaced with num1 and num2. The final print statement indicates the answer to the user."
   ]
  },
  {
   "cell_type": "markdown",
   "metadata": {},
   "source": [
    "\n",
    "### Challenge 2: Summation of Primes\n",
    "The sum of the primes below 10 is 2 + 3 + 5 + 7 = 17. Find the sum of all the primes below 2,000. Afterward, write a brief explanation walking through your code's logic in markdown."
   ]
  },
  {
   "cell_type": "code",
   "execution_count": 2,
   "metadata": {},
   "outputs": [
    {
     "name": "stdout",
     "output_type": "stream",
     "text": [
      "The sum of all the primes below 2,000 is 277055\n"
     ]
    }
   ],
   "source": [
    "primes_list = [] \n",
    "primes_sum = 0 \n",
    "list1 = list(range(1,2000)) \n",
    "\n",
    "def is_prime(num): \n",
    "    for x in range(2,int(num/2)): \n",
    "        if num%x ==0: \n",
    "            return False \n",
    "    return True \n",
    "\n",
    "for num1 in list1: \n",
    "    if is_prime(num1) == True: \n",
    "        primes_list.append(num1) \n",
    "for num2 in primes_list: \n",
    "    primes_sum = primes_sum + num2 \n",
    "print('The sum of all the primes below 2,000 is ' + str(primes_sum)) "
   ]
  },
  {
   "cell_type": "markdown",
   "metadata": {},
   "source": [
    "I first initialized the list that will contain all of the primes below 2,000 as well as the int that will be the sum of those primes. List1 contains all of the integers between 1 and 2,000, and will be used in the second for loop. The function is_prime checks the number that is fed in for primeness. It does this with a for loop checking whether the number is divisible by any number smaller than half of the number fed in. If any number between 2 and half of the number fed in results in a mod eqaul to 0, the function returns the value 'False' to indicate that the number is not prime, since it is divisible by a number that is not 1 or itself. The next for loop checks each number in list1 for primeness. If the funciton is_prime indicated the number is prime, the number is added to the primes_list. The last for loop calculates the sum of the primes_list by adding each value to the primes_sum. The final print statement indicated the answer to the user.\n"
   ]
  },
  {
   "cell_type": "markdown",
   "metadata": {},
   "source": [
    "### Challenge 3: Multiples of 3 and 5\n",
    "If we list all of the natural numbers below 10 that are multiples of 3 or 5, we get 3, 5, 6, and 9. The sum of these multiples is 23. Find the sum of all the multiples of 3 and 5 below 1,000. Afterward, write a brief explanation walking through your code's logic in markdown."
   ]
  },
  {
   "cell_type": "code",
   "execution_count": 4,
   "metadata": {},
   "outputs": [
    {
     "name": "stdout",
     "output_type": "stream",
     "text": [
      "The sum of all the multiple of 3 and 5 below 1,000 is 233168\n"
     ]
    }
   ],
   "source": [
    "list3 = list(range(1,1000)) \n",
    "mult_3_5 = [] \n",
    "sum = 0\n",
    "for x in list3: \n",
    "    if x%3 ==0 or x%5 ==0: \n",
    "        mult_3_5.append(x)\n",
    "for x in mult_3_5: \n",
    "    sum = sum +x \n",
    "print('The sum of all the multiple of 3 and 5 below 1,000 is ' + str(sum))"
   ]
  },
  {
   "cell_type": "markdown",
   "metadata": {},
   "source": [
    "First I initialized the list that contains all the integers between 1 and 1000, and an empty list that will contain all the numbers from the first list that are mutliples of either 3 or 5. The first for loop checks each number in list3 to see if it is divisible by either 3 or 5, with the mod (%) function. If either mod is equal to 0, then the number is divisible by either 3 or 5, so the number is added to the mult_3_5 list. The next for loop calculated the sum of the numbers in the mult_3_5 list by going through each value in the list and adding it to the sum. The final print statement shows the answer."
   ]
  },
  {
   "cell_type": "markdown",
   "metadata": {},
   "source": [
    "### Challenge 4: String Compressor\n",
    "Implement a method to perform basic string compression using the counts of repeated characters. (This is called run-length encoding.) For example, the string \"aabcccccaaa\" would become a2b1c5a3. If the “compressed” string would not become smaller than the original string, your method should return the original string. You can assume the string has only uppercase and lowercase letters (a–z). Specify whether your solution is case sensitive or case insensitive and what you would need to change to make it the other. Afterward, write a brief explanation walking through your code's logic in markdown."
   ]
  },
  {
   "cell_type": "code",
   "execution_count": 5,
   "metadata": {},
   "outputs": [],
   "source": [
    "def string_compress(string):\n",
    "    string_compress = \"\"\n",
    "    lettercount = 1\n",
    "    for x in range(0,len(str(string))-1):\n",
    "        if string[x] == string[x+1]:\n",
    "            lettercount = lettercount +1\n",
    "        else:\n",
    "            string_compress = string_compress + str(string[x]) + str(lettercount)\n",
    "            lettercount = 1\n",
    "    if string[len(str(string))-1] == string[len(str(string))-2]:\n",
    "        string_compress = string_compress + string[len(str(string))-1] + str(lettercount)\n",
    "    else:\n",
    "        string_compress = string_compress + string[len(str(string))-1] + '1'\n",
    "    if len(str(string_compress)) < len(str(string)):\n",
    "        return(string_compress)\n",
    "    else:\n",
    "        return(string)"
   ]
  },
  {
   "cell_type": "markdown",
   "metadata": {},
   "source": [
    "I began by initializing the compressed string to be nothing, and the letter count to be 1. The for loop runs through each character in the string, from index 0, to the last index which is 1 minus the length since the indexing begins at 0. The for loop determines whether the character following the current character is the equal to the current character. If they are equal the letter count is incremented and the for loop goes on to the next character. If they are not equal, then the character and the curret letter count are added onto the compressed string, and letter count is set to 1 to start counting the next group of characters. The next portion deals with the last character, since it is not addressed in the preceeding for loop. If the last character is the same as the second to last character, the character is added on to the string as well as the letter count, which should remain accurate from the previous for loop. If they are not equal then the last character and the number 1 are added to the end of the compressed string Finally the function returns the compressed string if it is shorter than the original string. If not, it returns the original string. My code is case sensitive, in order to make the function non-case sensitive at the begining of the function one would put string.lower(), to make the entire string lowercase, and case sensitivity would not longer be an issue."
   ]
  },
  {
   "cell_type": "markdown",
   "metadata": {},
   "source": [
    "### *BONUS* Challenge: FizzBuzz\n",
    "Write a program that prints all of the numbers from 1 to 100. For multiples of 3, instead of the number, print \"Fizz;\" for multiples of 5, print \"Buzz.\" For numbers that are multiples of both 3 and 5, print \"FizzBuzz.\" Afterward, write a brief explanation walking through your code's logic in markdown."
   ]
  },
  {
   "cell_type": "code",
   "execution_count": 6,
   "metadata": {},
   "outputs": [
    {
     "name": "stdout",
     "output_type": "stream",
     "text": [
      "1\n",
      "2\n",
      "Fizz\n",
      "4\n",
      "Buzz\n",
      "Fizz\n",
      "7\n",
      "8\n",
      "Fizz\n",
      "Buzz\n",
      "11\n",
      "Fizz\n",
      "13\n",
      "14\n",
      "FizzBuzz\n",
      "16\n",
      "17\n",
      "Fizz\n",
      "19\n",
      "Buzz\n",
      "Fizz\n",
      "22\n",
      "23\n",
      "Fizz\n",
      "Buzz\n",
      "26\n",
      "Fizz\n",
      "28\n",
      "29\n",
      "FizzBuzz\n",
      "31\n",
      "32\n",
      "Fizz\n",
      "34\n",
      "Buzz\n",
      "Fizz\n",
      "37\n",
      "38\n",
      "Fizz\n",
      "Buzz\n",
      "41\n",
      "Fizz\n",
      "43\n",
      "44\n",
      "FizzBuzz\n",
      "46\n",
      "47\n",
      "Fizz\n",
      "49\n",
      "Buzz\n",
      "Fizz\n",
      "52\n",
      "53\n",
      "Fizz\n",
      "Buzz\n",
      "56\n",
      "Fizz\n",
      "58\n",
      "59\n",
      "FizzBuzz\n",
      "61\n",
      "62\n",
      "Fizz\n",
      "64\n",
      "Buzz\n",
      "Fizz\n",
      "67\n",
      "68\n",
      "Fizz\n",
      "Buzz\n",
      "71\n",
      "Fizz\n",
      "73\n",
      "74\n",
      "FizzBuzz\n",
      "76\n",
      "77\n",
      "Fizz\n",
      "79\n",
      "Buzz\n",
      "Fizz\n",
      "82\n",
      "83\n",
      "Fizz\n",
      "Buzz\n",
      "86\n",
      "Fizz\n",
      "88\n",
      "89\n",
      "FizzBuzz\n",
      "91\n",
      "92\n",
      "Fizz\n",
      "94\n",
      "Buzz\n",
      "Fizz\n",
      "97\n",
      "98\n",
      "Fizz\n",
      "Buzz\n"
     ]
    }
   ],
   "source": [
    "def fizzbuzz(num):\n",
    "    if num%3 == 0 and num%5 == 0:\n",
    "        return('FizzBuzz')\n",
    "    if num%3 == 0:\n",
    "        return('Fizz')\n",
    "    if num%5 == 0:\n",
    "        return('Buzz')\n",
    "    else:\n",
    "        return(num)\n",
    "for x in range(1,101):\n",
    "    print(fizzbuzz(x))"
   ]
  },
  {
   "cell_type": "markdown",
   "metadata": {},
   "source": [
    "The function 'FizzBuzz' takes in a number. If the number is divisible by both 3 and 5, which is determined by the mod(%) function, then the function returns the string 'Fizz Buzz'. If that is not true the function checks if the number is divisible by 3, again with the mod function. If that is true the function returns 'Fizz'. If neither of the first two if statements are true the function checks if the number is divisible by 5 with the mod function. If that is true the function returns 'Buzz'. If the number is not divisible by 3 or 5, i.e. all of the above if statements were false, then the function returns the number. The last for statement iterates through each integer between 1 and 100, inclusive. Each number is fed in to the FizzBuzz function, and the result of the function is printed out."
   ]
  },
  {
   "cell_type": "code",
   "execution_count": null,
   "metadata": {},
   "outputs": [],
   "source": []
  }
 ],
 "metadata": {
  "anaconda-cloud": {},
  "kernelspec": {
   "display_name": "Python 3",
   "language": "python",
   "name": "python3"
  },
  "language_info": {
   "codemirror_mode": {
    "name": "ipython",
    "version": 3
   },
   "file_extension": ".py",
   "mimetype": "text/x-python",
   "name": "python",
   "nbconvert_exporter": "python",
   "pygments_lexer": "ipython3",
   "version": "3.6.4"
  }
 },
 "nbformat": 4,
 "nbformat_minor": 2
}
